{
 "cells": [
  {
   "cell_type": "code",
   "execution_count": 1,
   "id": "1ba91fa1",
   "metadata": {},
   "outputs": [
    {
     "name": "stderr",
     "output_type": "stream",
     "text": [
      "2023-12-11 18:15:39.062139: I tensorflow/tsl/cuda/cudart_stub.cc:28] Could not find cuda drivers on your machine, GPU will not be used.\n",
      "2023-12-11 18:15:39.320913: I tensorflow/tsl/cuda/cudart_stub.cc:28] Could not find cuda drivers on your machine, GPU will not be used.\n",
      "2023-12-11 18:15:39.323095: I tensorflow/core/platform/cpu_feature_guard.cc:182] This TensorFlow binary is optimized to use available CPU instructions in performance-critical operations.\n",
      "To enable the following instructions: AVX2 FMA, in other operations, rebuild TensorFlow with the appropriate compiler flags.\n",
      "2023-12-11 18:15:41.514952: W tensorflow/compiler/tf2tensorrt/utils/py_utils.cc:38] TF-TRT Warning: Could not find TensorRT\n"
     ]
    },
    {
     "data": {
      "text/plain": [
       "(60000, 784)"
      ]
     },
     "execution_count": 1,
     "metadata": {},
     "output_type": "execute_result"
    }
   ],
   "source": [
    "from dataset.dataset import load_fashion_mnist_dataset\n",
    "\n",
    "X_train, Y_train, X_test, Y_test = load_fashion_mnist_dataset(y=True)\n",
    "X_train.shape\n"
   ]
  },
  {
   "cell_type": "code",
   "execution_count": null,
   "id": "5154a851",
   "metadata": {},
   "outputs": [],
   "source": [
    "\n",
    "X_train = X_train.reshape(-1, 1, 28, 28)\n",
    "X_test = X_test.reshape(-1, 1, 28, 28)"
   ]
  },
  {
   "cell_type": "code",
   "execution_count": 87,
   "id": "f1e9272c4c25a9fd",
   "metadata": {
    "collapsed": false,
    "is_executing": true
   },
   "outputs": [],
   "source": [
    "import numpy as np\n",
    "import pickle\n",
    "\n",
    "from models.optimizer import ConvolutionOptimizer\n",
    "from models.metrics import MeanSquaredError\n",
    "from models.neural_network import BasicNetwork\n",
    "from models.layers import DenseLayer, Conv2D, MaxPool2D, Flatten\n",
    "from models.activation_functions import Sigmoid, ReLU\n",
    "\n",
    "\n",
    "def train_and_save(kernel_size, n_of_kernels, input_count):\n",
    "    convolution_net = BasicNetwork()\n",
    "    \n",
    "    convolution_net.add_layer(Conv2D(1, kernel_size, n_of_kernels, 1))\n",
    "    convolution_net.add_layer(MaxPool2D(2, 2))\n",
    "    convolution_net.add_layer(Conv2D(n_of_kernels, kernel_size, n_of_kernels, 1))\n",
    "    convolution_net.add_layer(MaxPool2D(2, 2))\n",
    "    convolution_net.add_layer(Flatten())\n",
    "    convolution_net.add_layer(DenseLayer(input_count, 400))\n",
    "    convolution_net.add_layer(ReLU())\n",
    "    convolution_net.add_layer(DenseLayer(400, 784))\n",
    "    convolution_net.add_layer(Sigmoid())\n",
    "    \n",
    "    epoch_losses = []\n",
    "    epochs = 100\n",
    "    batch_size = 4086\n",
    "    learning_rate = 10e-3\n",
    "    \n",
    "    batch_count = X_train.shape[0] // batch_size\n",
    "    \n",
    "    opt = ConvolutionOptimizer(convolution_net, learning_rate=learning_rate)\n",
    "    loss_fn = MeanSquaredError()\n",
    "\n",
    "    for epoch in range(epochs):\n",
    "        print(f\"Epoch: {epoch}\")\n",
    "        for batch_no in range(batch_count):\n",
    "            start_idx = batch_no * batch_size\n",
    "            end_idx = start_idx + batch_size\n",
    "\n",
    "            x = X_train[start_idx:end_idx]\n",
    "            x_cmp = x.reshape(batch_size, 784)\n",
    "\n",
    "            prediction = convolution_net.forward(x)\n",
    "            loss = loss_fn.calculate(prediction, x_cmp)\n",
    "            epoch_losses.append(loss)\n",
    "\n",
    "            loss_fn.backward(prediction, x_cmp)\n",
    "            convolution_net.backward(loss_fn.d_inputs)\n",
    "\n",
    "            opt.fit()\n",
    "            \n",
    "        opt.save_loss(np.mean(epoch_losses))\n",
    "        epoch_losses = []\n",
    "        \n",
    "        \n",
    "    path = \"saved_models/\"\n",
    "    conv_path = \"conv/\"\n",
    "    with open(f\"{path}networks/{conv_path}model_{n_of_kernels}_{kernel_size}\", \"wb\") as pickle_file:\n",
    "        pickle.dump(convolution_net, pickle_file)\n",
    "\n",
    "    with open(\n",
    "        f\"{path}optimizers/{conv_path}optimizer_{n_of_kernels}_{kernel_size}\", \"wb\"\n",
    "    ) as pickle_file:\n",
    "        pickle.dump(opt, pickle_file)"
   ]
  },
  {
   "cell_type": "code",
   "execution_count": 88,
   "id": "24b3c1e7",
   "metadata": {},
   "outputs": [
    {
     "name": "stdout",
     "output_type": "stream",
     "text": [
      "Epoch: 0\n",
      "Epoch: 1\n",
      "Epoch: 2\n",
      "Epoch: 3\n",
      "Epoch: 4\n"
     ]
    }
   ],
   "source": [
    "\n",
    "train_and_save(kernel_size=2, n_of_kernels=8, input_count=128)\n",
    "train_and_save(kernel_size=2, n_of_kernels=16, input_count=256)\n",
    "train_and_save(kernel_size=4, n_of_kernels=8, input_count=72)\n",
    "train_and_save(kernel_size=4, n_of_kernels=16, input_count=144)\n"
   ]
  }
 ],
 "metadata": {
  "kernelspec": {
   "display_name": "Python 3",
   "language": "python",
   "name": "python3"
  },
  "language_info": {
   "codemirror_mode": {
    "name": "ipython",
    "version": 3
   },
   "file_extension": ".py",
   "mimetype": "text/x-python",
   "name": "python",
   "nbconvert_exporter": "python",
   "pygments_lexer": "ipython3",
   "version": "3.10.2 (main, Jan 15 2022, 18:02:07) [GCC 9.3.0]"
  },
  "vscode": {
   "interpreter": {
    "hash": "8a94588eda9d64d9e9a351ab8144e55b1fabf5113b54e67dd26a8c27df0381b3"
   }
  }
 },
 "nbformat": 4,
 "nbformat_minor": 5
}
