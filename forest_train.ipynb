{
 "cells": [
  {
   "cell_type": "code",
   "execution_count": 1,
   "metadata": {},
   "outputs": [
    {
     "data": {
      "text/plain": [
       "((412, 12), (412,))"
      ]
     },
     "execution_count": 1,
     "metadata": {},
     "output_type": "execute_result"
    }
   ],
   "source": [
    "from dataset.dataset import Dataset\n",
    "\n",
    "X, X_test, y, y_test = Dataset().forest_fires_dataset()\n",
    "\n",
    "X.shape, y.shape"
   ]
  },
  {
   "cell_type": "code",
   "execution_count": 2,
   "metadata": {},
   "outputs": [
    {
     "name": "stdout",
     "output_type": "stream",
     "text": [
      "Epoch 0  --  loss 0.240\n",
      "Epoch 1  --  loss 0.195\n",
      "Epoch 2  --  loss 0.053\n",
      "Epoch 3  --  loss 0.034\n",
      "Epoch 4  --  loss 0.029\n",
      "Epoch 5  --  loss 0.025\n",
      "Epoch 6  --  loss 0.023\n",
      "Epoch 7  --  loss 0.021\n",
      "Epoch 8  --  loss 0.019\n",
      "Epoch 9  --  loss 0.017\n",
      "Epoch 10  --  loss 0.016\n",
      "Epoch 11  --  loss 0.014\n",
      "Epoch 12  --  loss 0.013\n",
      "Epoch 13  --  loss 0.012\n",
      "Epoch 14  --  loss 0.012\n",
      "Epoch 15  --  loss 0.011\n",
      "Epoch 16  --  loss 0.010\n",
      "Epoch 17  --  loss 0.010\n",
      "Epoch 18  --  loss 0.009\n",
      "Epoch 19  --  loss 0.009\n",
      "Epoch 20  --  loss 0.008\n",
      "Epoch 21  --  loss 0.008\n",
      "Epoch 22  --  loss 0.008\n",
      "Epoch 23  --  loss 0.008\n",
      "Epoch 24  --  loss 0.007\n"
     ]
    }
   ],
   "source": [
    "from models.neural_network import get_regression_network\n",
    "from models.optimizer import Optimizer\n",
    "from models.metrics import MeanSquaredError\n",
    "\n",
    "\n",
    "network = get_regression_network(\n",
    "    input_dim=12,\n",
    "    hidden_dim=4,\n",
    "    output_dim=1,\n",
    "    number_of_hidden_layers=1,\n",
    ")\n",
    "\n",
    "optimizer = Optimizer(\n",
    "    network,\n",
    "    loss=MeanSquaredError(),\n",
    "    learning_rate=0.0009,\n",
    "    batch_size=16,\n",
    "    epochs=25,\n",
    "    reshape=True,\n",
    ")\n",
    "\n",
    "optimizer.fit(X, y)\n",
    "\n",
    "accuracy = optimizer.accuracy\n",
    "loss = optimizer.loss"
   ]
  },
  {
   "cell_type": "code",
   "execution_count": 3,
   "metadata": {},
   "outputs": [],
   "source": [
    "import matplotlib.pyplot as plt"
   ]
  },
  {
   "cell_type": "code",
   "execution_count": 4,
   "metadata": {},
   "outputs": [
    {
     "data": {
      "image/png": "[encoded data removed]",
      "text/plain": [
       "<Figure size 432x288 with 1 Axes>"
      ]
     },
     "metadata": {
      "needs_background": "light"
     },
     "output_type": "display_data"
    }
   ],
   "source": [
    "plt.plot(loss)\n",
    "plt.show()"
   ]
  }
 ],
 "metadata": {
  "kernelspec": {
   "display_name": "Python 3",
   "language": "python",
   "name": "python3"
  },
  "language_info": {
   "codemirror_mode": {
    "name": "ipython",
    "version": 3
   },
   "file_extension": ".py",
   "mimetype": "text/x-python",
   "name": "python",
   "nbconvert_exporter": "python",
   "pygments_lexer": "ipython3",
   "version": "3.10.2"
  },
  "orig_nbformat": 4,
  "vscode": {
   "interpreter": {
    "hash": "8a94588eda9d64d9e9a351ab8144e55b1fabf5113b54e67dd26a8c27df0381b3"
   }
  }
 },
 "nbformat": 4,
 "nbformat_minor": 2
}
