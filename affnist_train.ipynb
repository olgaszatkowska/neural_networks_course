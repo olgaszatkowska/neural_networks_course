{
 "cells": [
  {
   "cell_type": "code",
   "execution_count": 1,
   "metadata": {},
   "outputs": [
    {
     "data": {
      "text/plain": [
       "((8000, 1600), (8000,))"
      ]
     },
     "execution_count": 1,
     "metadata": {},
     "output_type": "execute_result"
    }
   ],
   "source": [
    "from dataset.dataset import load_affnist_dataset\n",
    "\n",
    "X, X_test, y, y_test = load_affnist_dataset()\n",
    "\n",
    "X.shape, y.shape"
   ]
  },
  {
   "cell_type": "code",
   "execution_count": 2,
   "metadata": {},
   "outputs": [
    {
     "name": "stdout",
     "output_type": "stream",
     "text": [
      "DenseLayer: 1600 x 800 -> RandomInitializer -> ReLU \n",
      "DenseLayer: 800 x 800 -> XavierInitializer -> ReLU \n",
      "DenseLayer: 800 x 10 -> RandomInitializer -> SoftMax \n",
      "\n"
     ]
    }
   ],
   "source": [
    "from models.neural_network import ClassificationNeuralNetwork\n",
    "\n",
    "\n",
    "network = ClassificationNeuralNetwork(\n",
    "    input_dim=1600,\n",
    "    hidden_dim=800,\n",
    "    output_dim=10,\n",
    "    number_of_hidden_layers=1,\n",
    ")\n",
    "\n",
    "print(network)"
   ]
  },
  {
   "cell_type": "code",
   "execution_count": 3,
   "metadata": {},
   "outputs": [
    {
     "name": "stdout",
     "output_type": "stream",
     "text": [
      "Epoch 0  -- accuracy 0.167 - loss 2.245\n",
      "Epoch 1  -- accuracy 0.210 - loss 2.140\n",
      "Epoch 2  -- accuracy 0.292 - loss 1.958\n",
      "Epoch 3  -- accuracy 0.396 - loss 1.717\n",
      "Epoch 4  -- accuracy 0.490 - loss 1.456\n",
      "Epoch 5  -- accuracy 0.574 - loss 1.264\n",
      "Epoch 6  -- accuracy 0.643 - loss 1.056\n",
      "Epoch 7  -- accuracy 0.715 - loss 0.837\n",
      "Epoch 8  -- accuracy 0.789 - loss 0.652\n",
      "Epoch 9  -- accuracy 0.834 - loss 0.503\n",
      "Epoch 10  -- accuracy 0.902 - loss 0.314\n",
      "Epoch 11  -- accuracy 0.925 - loss 0.250\n",
      "Epoch 12  -- accuracy 0.966 - loss 0.132\n",
      "Epoch 13  -- accuracy 0.989 - loss 0.061\n",
      "Epoch 14  -- accuracy 0.996 - loss 0.036\n",
      "Epoch 15  -- accuracy 0.997 - loss 0.023\n",
      "Epoch 16  -- accuracy 1.000 - loss 0.009\n",
      "Epoch 17  -- accuracy 1.000 - loss 0.006\n",
      "Epoch 18  -- accuracy 1.000 - loss 0.004\n",
      "Epoch 19  -- accuracy 1.000 - loss 0.003\n",
      "Epoch 20  -- accuracy 1.000 - loss 0.003\n",
      "Epoch 21  -- accuracy 1.000 - loss 0.003\n",
      "Epoch 22  -- accuracy 1.000 - loss 0.002\n",
      "Epoch 23  -- accuracy 1.000 - loss 0.002\n",
      "Epoch 24  -- accuracy 1.000 - loss 0.002\n",
      "Epoch 25  -- accuracy 1.000 - loss 0.002\n",
      "Epoch 26  -- accuracy 1.000 - loss 0.002\n",
      "Epoch 27  -- accuracy 1.000 - loss 0.002\n",
      "Epoch 28  -- accuracy 1.000 - loss 0.001\n",
      "Epoch 29  -- accuracy 1.000 - loss 0.001\n"
     ]
    }
   ],
   "source": [
    "from models.optimizer import Optimizer\n",
    "from models.metrics import CategoricalCrossEntropyLoss, Accuracy\n",
    "\n",
    "\n",
    "optimizer = Optimizer(\n",
    "    network,\n",
    "    accuracy=Accuracy(),\n",
    "    loss=CategoricalCrossEntropyLoss(),\n",
    "    learning_rate=0.85,\n",
    "    batch_size=128,\n",
    "    epochs=30,\n",
    "    reshape=False,\n",
    ")\n",
    "\n",
    "optimizer.fit(X, y)\n",
    "\n",
    "accuracy = optimizer.accuracy\n",
    "loss = optimizer.loss"
   ]
  },
  {
   "cell_type": "code",
   "execution_count": 4,
   "metadata": {},
   "outputs": [],
   "source": [
    "import matplotlib.pyplot as plt"
   ]
  },
  {
   "cell_type": "code",
   "execution_count": 5,
   "metadata": {},
   "outputs": [
    {
     "data": {
      "image/png": "[encoded data removed]",
      "text/plain": [
       "<Figure size 432x288 with 1 Axes>"
      ]
     },
     "metadata": {
      "needs_background": "light"
     },
     "output_type": "display_data"
    }
   ],
   "source": [
    "plt.plot(accuracy)\n",
    "plt.show()"
   ]
  },
  {
   "cell_type": "code",
   "execution_count": 6,
   "metadata": {},
   "outputs": [
    {
     "data": {
      "image/png": "[encoded data removed]",
      "text/plain": [
       "<Figure size 432x288 with 1 Axes>"
      ]
     },
     "metadata": {
      "needs_background": "light"
     },
     "output_type": "display_data"
    }
   ],
   "source": [
    "plt.plot(loss)\n",
    "plt.show()"
   ]
  },
  {
   "cell_type": "code",
   "execution_count": 7,
   "metadata": {},
   "outputs": [
    {
     "data": {
      "text/plain": [
       "'Model accuracy is 0.7155'"
      ]
     },
     "execution_count": 7,
     "metadata": {},
     "output_type": "execute_result"
    }
   ],
   "source": [
    "import numpy as np\n",
    "\n",
    "acc = Accuracy()\n",
    "loss = CategoricalCrossEntropyLoss()\n",
    "test_accuracy = np.mean(\n",
    "    [\n",
    "        acc.calculate(network.forward(X_val), y_val)\n",
    "        for X_val, y_val in zip(X_test, y_test)\n",
    "    ]\n",
    ")\n",
    "\n",
    "f\"Model accuracy is {test_accuracy}\""
   ]
  }
 ],
 "metadata": {
  "kernelspec": {
   "display_name": "Python 3",
   "language": "python",
   "name": "python3"
  },
  "language_info": {
   "codemirror_mode": {
    "name": "ipython",
    "version": 3
   },
   "file_extension": ".py",
   "mimetype": "text/x-python",
   "name": "python",
   "nbconvert_exporter": "python",
   "pygments_lexer": "ipython3",
   "version": "3.10.2"
  },
  "orig_nbformat": 4,
  "vscode": {
   "interpreter": {
    "hash": "8a94588eda9d64d9e9a351ab8144e55b1fabf5113b54e67dd26a8c27df0381b3"
   }
  }
 },
 "nbformat": 4,
 "nbformat_minor": 2
}
