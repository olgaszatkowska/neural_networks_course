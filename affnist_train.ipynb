{
 "cells": [
  {
   "cell_type": "code",
   "execution_count": null,
   "metadata": {},
   "outputs": [],
   "source": [
    "from models.neural_network import ClassificationNeuralNetwork\n",
    "from models.optimizer import Optimizer\n",
    "from models.metrics import CategoricalCrossEntropyLoss, Accuracy\n",
    "from dataset import Dataset\n",
    "\n",
    "X, y = Dataset().affnist_dataset()\n",
    "\n",
    "\n",
    "network = ClassificationNeuralNetwork(\n",
    "    input_dim=1600,\n",
    "    hidden_dim=800,\n",
    "    output_dim=10,\n",
    "    number_of_hidden_layers=1,\n",
    ")\n",
    "\n",
    "\n",
    "optimizer = Optimizer(\n",
    "    network,\n",
    "    accuracy=Accuracy(),\n",
    "    loss=CategoricalCrossEntropyLoss(),\n",
    "    learning_rate=1,\n",
    "    batch_size=128,\n",
    "    epochs=10,\n",
    ")\n",
    "\n",
    "optimizer.fit(X, y)\n",
    "\n",
    "accuracy = optimizer.accuracy\n",
    "loss = optimizer.loss"
   ]
  },
  {
   "cell_type": "code",
   "execution_count": null,
   "metadata": {},
   "outputs": [],
   "source": [
    "import matplotlib.pyplot as plt"
   ]
  },
  {
   "cell_type": "code",
   "execution_count": null,
   "metadata": {},
   "outputs": [],
   "source": [
    "plt.plot(accuracy)\n",
    "plt.show()"
   ]
  },
  {
   "cell_type": "code",
   "execution_count": null,
   "metadata": {},
   "outputs": [],
   "source": [
    "plt.plot(loss)\n",
    "plt.show()"
   ]
  }
 ],
 "metadata": {
  "kernelspec": {
   "display_name": "Python 3",
   "language": "python",
   "name": "python3"
  },
  "language_info": {
   "codemirror_mode": {
    "name": "ipython",
    "version": 3
   },
   "file_extension": ".py",
   "mimetype": "text/x-python",
   "name": "python",
   "nbconvert_exporter": "python",
   "pygments_lexer": "ipython3",
   "version": "3.10.2 (main, Jan 15 2022, 18:02:07) [GCC 9.3.0]"
  },
  "orig_nbformat": 4,
  "vscode": {
   "interpreter": {
    "hash": "8a94588eda9d64d9e9a351ab8144e55b1fabf5113b54e67dd26a8c27df0381b3"
   }
  }
 },
 "nbformat": 4,
 "nbformat_minor": 2
}
