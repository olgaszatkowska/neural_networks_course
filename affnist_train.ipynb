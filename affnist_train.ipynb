{
 "cells": [
  {
   "cell_type": "code",
   "execution_count": 1,
   "metadata": {},
   "outputs": [
    {
     "name": "stderr",
     "output_type": "stream",
     "text": [
      "2023-11-05 18:40:28.389409: I tensorflow/tsl/cuda/cudart_stub.cc:28] Could not find cuda drivers on your machine, GPU will not be used.\n",
      "2023-11-05 18:40:28.460873: I tensorflow/tsl/cuda/cudart_stub.cc:28] Could not find cuda drivers on your machine, GPU will not be used.\n",
      "2023-11-05 18:40:28.462200: I tensorflow/core/platform/cpu_feature_guard.cc:182] This TensorFlow binary is optimized to use available CPU instructions in performance-critical operations.\n",
      "To enable the following instructions: AVX2 FMA, in other operations, rebuild TensorFlow with the appropriate compiler flags.\n",
      "2023-11-05 18:40:29.742247: W tensorflow/compiler/tf2tensorrt/utils/py_utils.cc:38] TF-TRT Warning: Could not find TensorRT\n"
     ]
    },
    {
     "data": {
      "text/plain": [
       "((8000, 1600), (8000,))"
      ]
     },
     "execution_count": 1,
     "metadata": {},
     "output_type": "execute_result"
    }
   ],
   "source": [
    "from dataset.dataset import load_affnist_dataset\n",
    "\n",
    "X, X_test, y, y_test = load_affnist_dataset()\n",
    "\n",
    "X.shape, y.shape"
   ]
  },
  {
   "cell_type": "code",
   "execution_count": 1,
   "metadata": {},
   "outputs": [
    {
     "name": "stdout",
     "output_type": "stream",
     "text": [
      "DenseLayer: input 1600, neurons 800 -> ReLU \n",
      "DenseLayer: input 800, neurons 800 -> ReLU \n",
      "DenseLayer: input 800, neurons 10 -> SoftMax \n",
      "\n"
     ]
    }
   ],
   "source": [
    "from models.neural_network import ClassificationNeuralNetwork\n",
    "\n",
    "\n",
    "network = ClassificationNeuralNetwork(\n",
    "    input_dim=1600,\n",
    "    hidden_dim=800,\n",
    "    output_dim=10,\n",
    "    number_of_hidden_layers=1,\n",
    ")\n",
    "\n",
    "print(network)"
   ]
  },
  {
   "cell_type": "code",
   "execution_count": 2,
   "metadata": {},
   "outputs": [
    {
     "name": "stdout",
     "output_type": "stream",
     "text": [
      "Epoch 0  -- accuracy 0.168 - loss 2.244\n"
     ]
    }
   ],
   "source": [
    "from models.optimizer import Optimizer\n",
    "from models.metrics import CategoricalCrossEntropyLoss, Accuracy\n",
    "\n",
    "\n",
    "optimizer = Optimizer(\n",
    "    network,\n",
    "    accuracy=Accuracy(),\n",
    "    loss=CategoricalCrossEntropyLoss(),\n",
    "    learning_rate=0.85,\n",
    "    batch_size=128,\n",
    "    epochs=10,\n",
    "    reshape=False,\n",
    ")\n",
    "\n",
    "optimizer.fit(X, y)\n",
    "\n",
    "accuracy = optimizer.accuracy\n",
    "loss = optimizer.loss"
   ]
  },
  {
   "cell_type": "code",
   "execution_count": null,
   "metadata": {},
   "outputs": [],
   "source": [
    "import matplotlib.pyplot as plt"
   ]
  },
  {
   "cell_type": "code",
   "execution_count": null,
   "metadata": {},
   "outputs": [
    {
     "data": {
      "image/png": "[encoded data removed]",
      "text/plain": [
       "<Figure size 432x288 with 1 Axes>"
      ]
     },
     "metadata": {
      "needs_background": "light"
     },
     "output_type": "display_data"
    }
   ],
   "source": [
    "plt.plot(accuracy)\n",
    "plt.show()"
   ]
  },
  {
   "cell_type": "code",
   "execution_count": null,
   "metadata": {},
   "outputs": [
    {
     "data": {
      "image/png": "[encoded data removed]",
      "text/plain": [
       "<Figure size 432x288 with 1 Axes>"
      ]
     },
     "metadata": {
      "needs_background": "light"
     },
     "output_type": "display_data"
    }
   ],
   "source": [
    "plt.plot(loss)\n",
    "plt.show()"
   ]
  },
  {
   "cell_type": "code",
   "execution_count": null,
   "metadata": {},
   "outputs": [
    {
     "data": {
      "text/plain": [
       "'Model accuracy is 0.652'"
      ]
     },
     "execution_count": 6,
     "metadata": {},
     "output_type": "execute_result"
    }
   ],
   "source": [
    "import numpy as np\n",
    "\n",
    "acc = Accuracy()\n",
    "loss = CategoricalCrossEntropyLoss()\n",
    "test_accuracy = np.mean(\n",
    "    [\n",
    "        acc.calculate(network.forward(X_val), y_val)\n",
    "        for X_val, y_val in zip(X_test, y_test)\n",
    "    ]\n",
    ")\n",
    "\n",
    "f\"Model accuracy is {test_accuracy}\""
   ]
  }
 ],
 "metadata": {
  "kernelspec": {
   "display_name": "Python 3",
   "language": "python",
   "name": "python3"
  },
  "language_info": {
   "codemirror_mode": {
    "name": "ipython",
    "version": 3
   },
   "file_extension": ".py",
   "mimetype": "text/x-python",
   "name": "python",
   "nbconvert_exporter": "python",
   "pygments_lexer": "ipython3",
   "version": "3.10.2 (main, Jan 15 2022, 18:02:07) [GCC 9.3.0]"
  },
  "orig_nbformat": 4,
  "vscode": {
   "interpreter": {
    "hash": "8a94588eda9d64d9e9a351ab8144e55b1fabf5113b54e67dd26a8c27df0381b3"
   }
  }
 },
 "nbformat": 4,
 "nbformat_minor": 2
}
