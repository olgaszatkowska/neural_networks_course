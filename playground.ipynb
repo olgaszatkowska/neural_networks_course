{
 "cells": [
  {
   "cell_type": "code",
   "execution_count": 1,
   "metadata": {},
   "outputs": [
    {
     "name": "stdout",
     "output_type": "stream",
     "text": [
      "DenseLayer: input 3, neurons 3) -> ReLU \n",
      "DenseLayer: input 3, neurons 8) -> ReLU \n",
      "DenseLayer: input 8, neurons 4) -> ReLU \n",
      "\n"
     ]
    }
   ],
   "source": [
    "from models.neural_network import CustomizableNeuralNetwork\n",
    "from models.layers import DenseLayer\n",
    "from models.activation_functions import ReLU\n",
    "from models.weights_initializer import RandomInitializer\n",
    "\n",
    "\n",
    "nn = CustomizableNeuralNetwork(input_dim=3)\n",
    "\n",
    "nn.add_layer(3, ReLU(), RandomInitializer)\n",
    "nn.add_layer(8, ReLU(), RandomInitializer)\n",
    "nn.add_layer(4, ReLU(), RandomInitializer)\n",
    "\n",
    "print(nn)"
   ]
  }
 ],
 "metadata": {
  "kernelspec": {
   "display_name": "Python 3",
   "language": "python",
   "name": "python3"
  },
  "language_info": {
   "codemirror_mode": {
    "name": "ipython",
    "version": 3
   },
   "file_extension": ".py",
   "mimetype": "text/x-python",
   "name": "python",
   "nbconvert_exporter": "python",
   "pygments_lexer": "ipython3",
   "version": "3.10.2"
  },
  "orig_nbformat": 4,
  "vscode": {
   "interpreter": {
    "hash": "8a94588eda9d64d9e9a351ab8144e55b1fabf5113b54e67dd26a8c27df0381b3"
   }
  }
 },
 "nbformat": 4,
 "nbformat_minor": 2
}
