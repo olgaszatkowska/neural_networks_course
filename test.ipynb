{
 "cells": [
  {
   "cell_type": "code",
   "execution_count": 1,
   "metadata": {},
   "outputs": [
    {
     "name": "stdout",
     "output_type": "stream",
     "text": [
      "(4086, 16, 12, 12)\n"
     ]
    }
   ],
   "source": [
    "import numpy as np\n",
    "\n",
    "# Assuming your tensors are named tensor1 and tensor2\n",
    "tensor1_shape = (4086, 16, 12, 12, 2, 2)\n",
    "tensor2_shape = (16, 16, 2, 2)\n",
    "\n",
    "# Create dummy tensors for illustration\n",
    "tensor1 = np.random.rand(*tensor1_shape)\n",
    "tensor2 = np.random.rand(*tensor2_shape)\n",
    "\n",
    "# Perform the tensordot operation\n",
    "output_tensor = np.tensordot(tensor1, tensor2, axes=([4, 5], [2, 3]))\n",
    "output_tensor = np.sum(output_tensor, axis=(-2, -1))\n",
    "# Verify the output shape\n",
    "print(output_tensor.shape)  # Output should be (4086, 16, 12, 12)"
   ]
  }
 ],
 "metadata": {
  "kernelspec": {
   "display_name": "Python 3",
   "language": "python",
   "name": "python3"
  },
  "language_info": {
   "codemirror_mode": {
    "name": "ipython",
    "version": 3
   },
   "file_extension": ".py",
   "mimetype": "text/x-python",
   "name": "python",
   "nbconvert_exporter": "python",
   "pygments_lexer": "ipython3",
   "version": "3.10.2"
  },
  "orig_nbformat": 4,
  "vscode": {
   "interpreter": {
    "hash": "8a94588eda9d64d9e9a351ab8144e55b1fabf5113b54e67dd26a8c27df0381b3"
   }
  }
 },
 "nbformat": 4,
 "nbformat_minor": 2
}
